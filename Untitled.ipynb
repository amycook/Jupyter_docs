{
 "cells": [
  {
   "cell_type": "code",
   "execution_count": 1,
   "metadata": {
    "collapsed": false
   },
   "outputs": [
    {
     "data": {
      "text/html": [
       "<table>\n",
       "<thead><tr><th></th><th scope=col>mpg</th><th scope=col>cyl</th><th scope=col>disp</th><th scope=col>hp</th><th scope=col>drat</th><th scope=col>wt</th><th scope=col>qsec</th><th scope=col>vs</th><th scope=col>am</th><th scope=col>gear</th><th scope=col>carb</th></tr></thead>\n",
       "<tbody>\n",
       "\t<tr><th scope=row>Mazda RX4</th><td>21</td><td>6</td><td>160</td><td>110</td><td>3.9</td><td>2.62</td><td>16.46</td><td>0</td><td>1</td><td>4</td><td>4</td></tr>\n",
       "\t<tr><th scope=row>Mazda RX4 Wag</th><td>21</td><td>6</td><td>160</td><td>110</td><td>3.9</td><td>2.875</td><td>17.02</td><td>0</td><td>1</td><td>4</td><td>4</td></tr>\n",
       "\t<tr><th scope=row>Datsun 710</th><td>22.8</td><td>4</td><td>108</td><td>93</td><td>3.85</td><td>2.32</td><td>18.61</td><td>1</td><td>1</td><td>4</td><td>1</td></tr>\n",
       "\t<tr><th scope=row>Hornet 4 Drive</th><td>21.4</td><td>6</td><td>258</td><td>110</td><td>3.08</td><td>3.215</td><td>19.44</td><td>1</td><td>0</td><td>3</td><td>1</td></tr>\n",
       "\t<tr><th scope=row>Hornet Sportabout</th><td>18.7</td><td>8</td><td>360</td><td>175</td><td>3.15</td><td>3.44</td><td>17.02</td><td>0</td><td>0</td><td>3</td><td>2</td></tr>\n",
       "\t<tr><th scope=row>Valiant</th><td>18.1</td><td>6</td><td>225</td><td>105</td><td>2.76</td><td>3.46</td><td>20.22</td><td>1</td><td>0</td><td>3</td><td>1</td></tr>\n",
       "</tbody>\n",
       "</table>\n"
      ],
      "text/latex": [
       "\\begin{tabular}{r|lllllllllll}\n",
       "  & mpg & cyl & disp & hp & drat & wt & qsec & vs & am & gear & carb\\\\\n",
       "\\hline\n",
       "\tMazda RX4 & 21 & 6 & 160 & 110 & 3.9 & 2.62 & 16.46 & 0 & 1 & 4 & 4\\\\\n",
       "\tMazda RX4 Wag & 21 & 6 & 160 & 110 & 3.9 & 2.875 & 17.02 & 0 & 1 & 4 & 4\\\\\n",
       "\tDatsun 710 & 22.8 & 4 & 108 & 93 & 3.85 & 2.32 & 18.61 & 1 & 1 & 4 & 1\\\\\n",
       "\tHornet 4 Drive & 21.4 & 6 & 258 & 110 & 3.08 & 3.215 & 19.44 & 1 & 0 & 3 & 1\\\\\n",
       "\tHornet Sportabout & 18.7 & 8 & 360 & 175 & 3.15 & 3.44 & 17.02 & 0 & 0 & 3 & 2\\\\\n",
       "\tValiant & 18.1 & 6 & 225 & 105 & 2.76 & 3.46 & 20.22 & 1 & 0 & 3 & 1\\\\\n",
       "\\end{tabular}\n"
      ],
      "text/plain": [
       "                   mpg cyl disp  hp drat    wt  qsec vs am gear carb\n",
       "Mazda RX4         21.0   6  160 110 3.90 2.620 16.46  0  1    4    4\n",
       "Mazda RX4 Wag     21.0   6  160 110 3.90 2.875 17.02  0  1    4    4\n",
       "Datsun 710        22.8   4  108  93 3.85 2.320 18.61  1  1    4    1\n",
       "Hornet 4 Drive    21.4   6  258 110 3.08 3.215 19.44  1  0    3    1\n",
       "Hornet Sportabout 18.7   8  360 175 3.15 3.440 17.02  0  0    3    2\n",
       "Valiant           18.1   6  225 105 2.76 3.460 20.22  1  0    3    1"
      ]
     },
     "metadata": {},
     "output_type": "display_data"
    }
   ],
   "source": [
    "head(mtcars)"
   ]
  },
  {
   "cell_type": "markdown",
   "metadata": {},
   "source": [
    "# Testing One Three Five\n",
    "Now this is normal text"
   ]
  },
  {
   "cell_type": "code",
   "execution_count": 3,
   "metadata": {
    "collapsed": false
   },
   "outputs": [
    {
     "data": {
      "text/html": [
       "<table>\n",
       "<thead><tr><th></th><th scope=col>mpg</th><th scope=col>cyl</th><th scope=col>disp</th><th scope=col>hp</th><th scope=col>drat</th><th scope=col>wt</th><th scope=col>qsec</th><th scope=col>vs</th><th scope=col>am</th><th scope=col>gear</th><th scope=col>carb</th></tr></thead>\n",
       "<tbody>\n",
       "\t<tr><th scope=row>1</th><td> 22.80</td><td>  4.00</td><td>108.00</td><td> 93.00</td><td>  3.85</td><td>  2.32</td><td> 18.61</td><td>  1.00</td><td>  1.00</td><td>  4.00</td><td>  1.00</td></tr>\n",
       "\t<tr><th scope=row>2</th><td> 24.40</td><td>  4.00</td><td>146.70</td><td> 62.00</td><td>  3.69</td><td>  3.19</td><td> 20.00</td><td>  1.00</td><td>  0.00</td><td>  4.00</td><td>  2.00</td></tr>\n",
       "\t<tr><th scope=row>3</th><td> 22.80</td><td>  4.00</td><td>140.80</td><td> 95.00</td><td>  3.92</td><td>  3.15</td><td> 22.90</td><td>  1.00</td><td>  0.00</td><td>  4.00</td><td>  2.00</td></tr>\n",
       "\t<tr><th scope=row>4</th><td>32.40</td><td> 4.00</td><td>78.70</td><td>66.00</td><td> 4.08</td><td> 2.20</td><td>19.47</td><td> 1.00</td><td> 1.00</td><td> 4.00</td><td> 1.00</td></tr>\n",
       "\t<tr><th scope=row>5</th><td>30.400</td><td> 4.000</td><td>75.700</td><td>52.000</td><td> 4.930</td><td> 1.615</td><td>18.520</td><td> 1.000</td><td> 1.000</td><td> 4.000</td><td> 2.000</td></tr>\n",
       "\t<tr><th scope=row>6</th><td>33.900</td><td> 4.000</td><td>71.100</td><td>65.000</td><td> 4.220</td><td> 1.835</td><td>19.900</td><td> 1.000</td><td> 1.000</td><td> 4.000</td><td> 1.000</td></tr>\n",
       "</tbody>\n",
       "</table>\n"
      ],
      "text/latex": [
       "\\begin{tabular}{r|lllllllllll}\n",
       "  & mpg & cyl & disp & hp & drat & wt & qsec & vs & am & gear & carb\\\\\n",
       "\\hline\n",
       "\t1 &  22.80 &   4.00 & 108.00 &  93.00 &   3.85 &   2.32 &  18.61 &   1.00 &   1.00 &   4.00 &   1.00\\\\\n",
       "\t2 &  24.40 &   4.00 & 146.70 &  62.00 &   3.69 &   3.19 &  20.00 &   1.00 &   0.00 &   4.00 &   2.00\\\\\n",
       "\t3 &  22.80 &   4.00 & 140.80 &  95.00 &   3.92 &   3.15 &  22.90 &   1.00 &   0.00 &   4.00 &   2.00\\\\\n",
       "\t4 & 32.40 &  4.00 & 78.70 & 66.00 &  4.08 &  2.20 & 19.47 &  1.00 &  1.00 &  4.00 &  1.00\\\\\n",
       "\t5 & 30.400 &  4.000 & 75.700 & 52.000 &  4.930 &  1.615 & 18.520 &  1.000 &  1.000 &  4.000 &  2.000\\\\\n",
       "\t6 & 33.900 &  4.000 & 71.100 & 65.000 &  4.220 &  1.835 & 19.900 &  1.000 &  1.000 &  4.000 &  1.000\\\\\n",
       "\\end{tabular}\n"
      ],
      "text/plain": [
       "   mpg cyl  disp hp drat    wt  qsec vs am gear carb\n",
       "1 22.8   4 108.0 93 3.85 2.320 18.61  1  1    4    1\n",
       "2 24.4   4 146.7 62 3.69 3.190 20.00  1  0    4    2\n",
       "3 22.8   4 140.8 95 3.92 3.150 22.90  1  0    4    2\n",
       "4 32.4   4  78.7 66 4.08 2.200 19.47  1  1    4    1\n",
       "5 30.4   4  75.7 52 4.93 1.615 18.52  1  1    4    2\n",
       "6 33.9   4  71.1 65 4.22 1.835 19.90  1  1    4    1"
      ]
     },
     "metadata": {},
     "output_type": "display_data"
    }
   ],
   "source": [
    "library(dplyr)\n",
    "mtcars %>% filter(cyl<5) %>% head"
   ]
  },
  {
   "cell_type": "code",
   "execution_count": null,
   "metadata": {
    "collapsed": true
   },
   "outputs": [],
   "source": []
  }
 ],
 "metadata": {
  "kernelspec": {
   "display_name": "R",
   "language": "R",
   "name": "ir"
  },
  "language_info": {
   "codemirror_mode": "r",
   "file_extension": ".r",
   "mimetype": "text/x-r-source",
   "name": "R",
   "pygments_lexer": "r",
   "version": "3.3.0"
  }
 },
 "nbformat": 4,
 "nbformat_minor": 0
}
